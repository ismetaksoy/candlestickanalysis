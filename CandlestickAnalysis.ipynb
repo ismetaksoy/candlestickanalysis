{
 "cells": [
  {
   "cell_type": "code",
   "execution_count": 36,
   "metadata": {},
   "outputs": [],
   "source": [
    "from talib import *\n",
    "import yfinance as yf\n",
    "import pandas as pd\n",
    "import numpy\n",
    "import plotly.graph_objects as go\n",
    "import matplotlib.pyplot as plt\n",
    "from scipy import stats\n",
    "from sklearn.metrics import r2_score"
   ]
  },
  {
   "cell_type": "code",
   "execution_count": 39,
   "metadata": {},
   "outputs": [],
   "source": [
    "data = yf.Ticker(\"INGA.AS\")\n",
    "df = data.history(period=\"10y\")"
   ]
  },
  {
   "cell_type": "code",
   "execution_count": 40,
   "metadata": {},
   "outputs": [],
   "source": [
    "wprice = WCLPRICE(df[\"High\"],df[\"Low\"],df[\"Close\"])"
   ]
  },
  {
   "cell_type": "code",
   "execution_count": 41,
   "metadata": {},
   "outputs": [],
   "source": [
    "df2 = df.merge(wprice.reset_index().rename(columns={0:\"Weighted price\"}), on='Date', how='left')\n",
    "df2 = df2.set_index(\"Date\")"
   ]
  },
  {
   "cell_type": "code",
   "execution_count": 42,
   "metadata": {},
   "outputs": [],
   "source": [
    "df2['Wprice Hoger'] = np.where(df2['Weighted price'] > df2['Close'], True, False)"
   ]
  },
  {
   "cell_type": "code",
   "execution_count": 43,
   "metadata": {},
   "outputs": [
    {
     "data": {
      "image/png": "[encoded data removed]",
      "text/plain": [
       "<Figure size 432x288 with 1 Axes>"
      ]
     },
     "metadata": {
      "needs_background": "light"
     },
     "output_type": "display_data"
    }
   ],
   "source": [
    "plt.plot(df2.loc[\"2020-09-01\":,['Close','Weighted price']])\n",
    "plt.show()"
   ]
  },
  {
   "cell_type": "code",
   "execution_count": null,
   "metadata": {},
   "outputs": [],
   "source": []
  },
  {
   "cell_type": "code",
   "execution_count": 44,
   "metadata": {},
   "outputs": [
    {
     "data": {
      "text/html": [
       "<div>\n",
       "<style scoped>\n",
       "    .dataframe tbody tr th:only-of-type {\n",
       "        vertical-align: middle;\n",
       "    }\n",
       "\n",
       "    .dataframe tbody tr th {\n",
       "        vertical-align: top;\n",
       "    }\n",
       "\n",
       "    .dataframe thead th {\n",
       "        text-align: right;\n",
       "    }\n",
       "</style>\n",
       "<table border=\"1\" class=\"dataframe\">\n",
       "  <thead>\n",
       "    <tr style=\"text-align: right;\">\n",
       "      <th></th>\n",
       "      <th>Open</th>\n",
       "      <th>High</th>\n",
       "      <th>Low</th>\n",
       "      <th>Close</th>\n",
       "      <th>Volume</th>\n",
       "      <th>Dividends</th>\n",
       "      <th>Stock Splits</th>\n",
       "      <th>Weighted price</th>\n",
       "      <th>Wprice Hoger</th>\n",
       "    </tr>\n",
       "    <tr>\n",
       "      <th>Date</th>\n",
       "      <th></th>\n",
       "      <th></th>\n",
       "      <th></th>\n",
       "      <th></th>\n",
       "      <th></th>\n",
       "      <th></th>\n",
       "      <th></th>\n",
       "      <th></th>\n",
       "      <th></th>\n",
       "    </tr>\n",
       "  </thead>\n",
       "  <tbody>\n",
       "    <tr>\n",
       "      <th>2010-11-08</th>\n",
       "      <td>5.687709</td>\n",
       "      <td>5.723706</td>\n",
       "      <td>5.654590</td>\n",
       "      <td>5.683389</td>\n",
       "      <td>11688188</td>\n",
       "      <td>0.0</td>\n",
       "      <td>0</td>\n",
       "      <td>5.686269</td>\n",
       "      <td>True</td>\n",
       "    </tr>\n",
       "    <tr>\n",
       "      <th>2010-11-11</th>\n",
       "      <td>5.925296</td>\n",
       "      <td>5.955535</td>\n",
       "      <td>5.667549</td>\n",
       "      <td>5.713627</td>\n",
       "      <td>33316079</td>\n",
       "      <td>0.0</td>\n",
       "      <td>0</td>\n",
       "      <td>5.762584</td>\n",
       "      <td>True</td>\n",
       "    </tr>\n",
       "    <tr>\n",
       "      <th>2010-11-16</th>\n",
       "      <td>5.679068</td>\n",
       "      <td>5.680508</td>\n",
       "      <td>5.577553</td>\n",
       "      <td>5.583313</td>\n",
       "      <td>23205639</td>\n",
       "      <td>0.0</td>\n",
       "      <td>0</td>\n",
       "      <td>5.606172</td>\n",
       "      <td>True</td>\n",
       "    </tr>\n",
       "    <tr>\n",
       "      <th>2010-11-19</th>\n",
       "      <td>5.772663</td>\n",
       "      <td>5.789943</td>\n",
       "      <td>5.651710</td>\n",
       "      <td>5.714346</td>\n",
       "      <td>16870065</td>\n",
       "      <td>0.0</td>\n",
       "      <td>0</td>\n",
       "      <td>5.717586</td>\n",
       "      <td>True</td>\n",
       "    </tr>\n",
       "    <tr>\n",
       "      <th>2010-11-22</th>\n",
       "      <td>5.795704</td>\n",
       "      <td>5.811542</td>\n",
       "      <td>5.567475</td>\n",
       "      <td>5.596273</td>\n",
       "      <td>22305207</td>\n",
       "      <td>0.0</td>\n",
       "      <td>0</td>\n",
       "      <td>5.642891</td>\n",
       "      <td>True</td>\n",
       "    </tr>\n",
       "    <tr>\n",
       "      <th>...</th>\n",
       "      <td>...</td>\n",
       "      <td>...</td>\n",
       "      <td>...</td>\n",
       "      <td>...</td>\n",
       "      <td>...</td>\n",
       "      <td>...</td>\n",
       "      <td>...</td>\n",
       "      <td>...</td>\n",
       "      <td>...</td>\n",
       "    </tr>\n",
       "    <tr>\n",
       "      <th>2020-10-27</th>\n",
       "      <td>6.501000</td>\n",
       "      <td>6.536000</td>\n",
       "      <td>6.135000</td>\n",
       "      <td>6.158000</td>\n",
       "      <td>20195393</td>\n",
       "      <td>0.0</td>\n",
       "      <td>0</td>\n",
       "      <td>6.246750</td>\n",
       "      <td>True</td>\n",
       "    </tr>\n",
       "    <tr>\n",
       "      <th>2020-10-28</th>\n",
       "      <td>6.004000</td>\n",
       "      <td>6.084000</td>\n",
       "      <td>5.830000</td>\n",
       "      <td>5.893000</td>\n",
       "      <td>33799435</td>\n",
       "      <td>0.0</td>\n",
       "      <td>0</td>\n",
       "      <td>5.925000</td>\n",
       "      <td>True</td>\n",
       "    </tr>\n",
       "    <tr>\n",
       "      <th>2020-10-29</th>\n",
       "      <td>5.900000</td>\n",
       "      <td>5.970000</td>\n",
       "      <td>5.690000</td>\n",
       "      <td>5.755000</td>\n",
       "      <td>27300940</td>\n",
       "      <td>0.0</td>\n",
       "      <td>0</td>\n",
       "      <td>5.792500</td>\n",
       "      <td>True</td>\n",
       "    </tr>\n",
       "    <tr>\n",
       "      <th>2020-11-05</th>\n",
       "      <td>6.300000</td>\n",
       "      <td>6.350000</td>\n",
       "      <td>5.926000</td>\n",
       "      <td>6.098000</td>\n",
       "      <td>49131198</td>\n",
       "      <td>0.0</td>\n",
       "      <td>0</td>\n",
       "      <td>6.118000</td>\n",
       "      <td>True</td>\n",
       "    </tr>\n",
       "    <tr>\n",
       "      <th>2020-11-06</th>\n",
       "      <td>6.060000</td>\n",
       "      <td>6.194000</td>\n",
       "      <td>6.039000</td>\n",
       "      <td>6.063000</td>\n",
       "      <td>24432703</td>\n",
       "      <td>0.0</td>\n",
       "      <td>0</td>\n",
       "      <td>6.089750</td>\n",
       "      <td>True</td>\n",
       "    </tr>\n",
       "  </tbody>\n",
       "</table>\n",
       "<p>1275 rows × 9 columns</p>\n",
       "</div>"
      ],
      "text/plain": [
       "                Open      High       Low     Close    Volume  Dividends  \\\n",
       "Date                                                                      \n",
       "2010-11-08  5.687709  5.723706  5.654590  5.683389  11688188        0.0   \n",
       "2010-11-11  5.925296  5.955535  5.667549  5.713627  33316079        0.0   \n",
       "2010-11-16  5.679068  5.680508  5.577553  5.583313  23205639        0.0   \n",
       "2010-11-19  5.772663  5.789943  5.651710  5.714346  16870065        0.0   \n",
       "2010-11-22  5.795704  5.811542  5.567475  5.596273  22305207        0.0   \n",
       "...              ...       ...       ...       ...       ...        ...   \n",
       "2020-10-27  6.501000  6.536000  6.135000  6.158000  20195393        0.0   \n",
       "2020-10-28  6.004000  6.084000  5.830000  5.893000  33799435        0.0   \n",
       "2020-10-29  5.900000  5.970000  5.690000  5.755000  27300940        0.0   \n",
       "2020-11-05  6.300000  6.350000  5.926000  6.098000  49131198        0.0   \n",
       "2020-11-06  6.060000  6.194000  6.039000  6.063000  24432703        0.0   \n",
       "\n",
       "            Stock Splits  Weighted price  Wprice Hoger  \n",
       "Date                                                    \n",
       "2010-11-08             0        5.686269          True  \n",
       "2010-11-11             0        5.762584          True  \n",
       "2010-11-16             0        5.606172          True  \n",
       "2010-11-19             0        5.717586          True  \n",
       "2010-11-22             0        5.642891          True  \n",
       "...                  ...             ...           ...  \n",
       "2020-10-27             0        6.246750          True  \n",
       "2020-10-28             0        5.925000          True  \n",
       "2020-10-29             0        5.792500          True  \n",
       "2020-11-05             0        6.118000          True  \n",
       "2020-11-06             0        6.089750          True  \n",
       "\n",
       "[1275 rows x 9 columns]"
      ]
     },
     "execution_count": 44,
     "metadata": {},
     "output_type": "execute_result"
    }
   ],
   "source": [
    "df2[df2['Wprice Hoger'] == True]"
   ]
  },
  {
   "cell_type": "code",
   "execution_count": 45,
   "metadata": {},
   "outputs": [],
   "source": [
    "df2['Rendement'] = ((df2['Close'] - df2['Open']) / df2['Open']) * 100"
   ]
  },
  {
   "cell_type": "code",
   "execution_count": 46,
   "metadata": {},
   "outputs": [],
   "source": [
    "df2['Positief Rend'] = np.where(df2['Rendement'] > 0, True, False)"
   ]
  },
  {
   "cell_type": "code",
   "execution_count": 68,
   "metadata": {},
   "outputs": [
    {
     "data": {
      "text/html": [
       "<div>\n",
       "<style scoped>\n",
       "    .dataframe tbody tr th:only-of-type {\n",
       "        vertical-align: middle;\n",
       "    }\n",
       "\n",
       "    .dataframe tbody tr th {\n",
       "        vertical-align: top;\n",
       "    }\n",
       "\n",
       "    .dataframe thead th {\n",
       "        text-align: right;\n",
       "    }\n",
       "</style>\n",
       "<table border=\"1\" class=\"dataframe\">\n",
       "  <thead>\n",
       "    <tr style=\"text-align: right;\">\n",
       "      <th></th>\n",
       "      <th>Open</th>\n",
       "      <th>High</th>\n",
       "      <th>Low</th>\n",
       "      <th>Close</th>\n",
       "      <th>Volume</th>\n",
       "      <th>Dividends</th>\n",
       "      <th>Stock Splits</th>\n",
       "      <th>Weighted price</th>\n",
       "      <th>Wprice Hoger</th>\n",
       "      <th>Rendement</th>\n",
       "      <th>Positief Rend</th>\n",
       "    </tr>\n",
       "    <tr>\n",
       "      <th>Date</th>\n",
       "      <th></th>\n",
       "      <th></th>\n",
       "      <th></th>\n",
       "      <th></th>\n",
       "      <th></th>\n",
       "      <th></th>\n",
       "      <th></th>\n",
       "      <th></th>\n",
       "      <th></th>\n",
       "      <th></th>\n",
       "      <th></th>\n",
       "    </tr>\n",
       "  </thead>\n",
       "  <tbody>\n",
       "    <tr>\n",
       "      <th>2020-11-02</th>\n",
       "      <td>5.925</td>\n",
       "      <td>6.199</td>\n",
       "      <td>5.880</td>\n",
       "      <td>6.199</td>\n",
       "      <td>24897238</td>\n",
       "      <td>0.0</td>\n",
       "      <td>0</td>\n",
       "      <td>6.11925</td>\n",
       "      <td>False</td>\n",
       "      <td>4.624467</td>\n",
       "      <td>True</td>\n",
       "    </tr>\n",
       "    <tr>\n",
       "      <th>2020-11-03</th>\n",
       "      <td>6.289</td>\n",
       "      <td>6.511</td>\n",
       "      <td>6.254</td>\n",
       "      <td>6.477</td>\n",
       "      <td>26287779</td>\n",
       "      <td>0.0</td>\n",
       "      <td>0</td>\n",
       "      <td>6.42975</td>\n",
       "      <td>False</td>\n",
       "      <td>2.989350</td>\n",
       "      <td>True</td>\n",
       "    </tr>\n",
       "    <tr>\n",
       "      <th>2020-11-04</th>\n",
       "      <td>6.296</td>\n",
       "      <td>6.476</td>\n",
       "      <td>6.200</td>\n",
       "      <td>6.408</td>\n",
       "      <td>29358046</td>\n",
       "      <td>0.0</td>\n",
       "      <td>0</td>\n",
       "      <td>6.37300</td>\n",
       "      <td>False</td>\n",
       "      <td>1.778907</td>\n",
       "      <td>True</td>\n",
       "    </tr>\n",
       "    <tr>\n",
       "      <th>2020-11-05</th>\n",
       "      <td>6.300</td>\n",
       "      <td>6.350</td>\n",
       "      <td>5.926</td>\n",
       "      <td>6.098</td>\n",
       "      <td>49131198</td>\n",
       "      <td>0.0</td>\n",
       "      <td>0</td>\n",
       "      <td>6.11800</td>\n",
       "      <td>True</td>\n",
       "      <td>-3.206351</td>\n",
       "      <td>False</td>\n",
       "    </tr>\n",
       "    <tr>\n",
       "      <th>2020-11-06</th>\n",
       "      <td>6.060</td>\n",
       "      <td>6.194</td>\n",
       "      <td>6.039</td>\n",
       "      <td>6.063</td>\n",
       "      <td>24432703</td>\n",
       "      <td>0.0</td>\n",
       "      <td>0</td>\n",
       "      <td>6.08975</td>\n",
       "      <td>True</td>\n",
       "      <td>0.049509</td>\n",
       "      <td>True</td>\n",
       "    </tr>\n",
       "  </tbody>\n",
       "</table>\n",
       "</div>"
      ],
      "text/plain": [
       "             Open   High    Low  Close    Volume  Dividends  Stock Splits  \\\n",
       "Date                                                                        \n",
       "2020-11-02  5.925  6.199  5.880  6.199  24897238        0.0             0   \n",
       "2020-11-03  6.289  6.511  6.254  6.477  26287779        0.0             0   \n",
       "2020-11-04  6.296  6.476  6.200  6.408  29358046        0.0             0   \n",
       "2020-11-05  6.300  6.350  5.926  6.098  49131198        0.0             0   \n",
       "2020-11-06  6.060  6.194  6.039  6.063  24432703        0.0             0   \n",
       "\n",
       "            Weighted price  Wprice Hoger  Rendement  Positief Rend  \n",
       "Date                                                                \n",
       "2020-11-02         6.11925         False   4.624467           True  \n",
       "2020-11-03         6.42975         False   2.989350           True  \n",
       "2020-11-04         6.37300         False   1.778907           True  \n",
       "2020-11-05         6.11800          True  -3.206351          False  \n",
       "2020-11-06         6.08975          True   0.049509           True  "
      ]
     },
     "execution_count": 68,
     "metadata": {},
     "output_type": "execute_result"
    }
   ],
   "source": [
    "df2.tail()"
   ]
  },
  {
   "cell_type": "code",
   "execution_count": 54,
   "metadata": {},
   "outputs": [
    {
     "data": {
      "text/plain": [
       "2045"
      ]
     },
     "execution_count": 54,
     "metadata": {},
     "output_type": "execute_result"
    }
   ],
   "source": [
    "round(0.8*len(df2))"
   ]
  },
  {
   "cell_type": "code",
   "execution_count": 55,
   "metadata": {},
   "outputs": [],
   "source": [
    "train_wprice = df2['Weighted price'][:round(0.8*len(df2))]\n",
    "train_posrend = df2['Rendement'][:round(0.8*len(df2))]"
   ]
  },
  {
   "cell_type": "code",
   "execution_count": 56,
   "metadata": {},
   "outputs": [],
   "source": [
    "test_wprice = df2['Weighted price'][round(0.8*len(df2)):]\n",
    "test_posrend = df2['Rendement'][round(0.8*len(df2)):]"
   ]
  },
  {
   "cell_type": "code",
   "execution_count": 63,
   "metadata": {},
   "outputs": [
    {
     "data": {
      "image/png": "[encoded data removed]",
      "text/plain": [
       "<Figure size 432x288 with 1 Axes>"
      ]
     },
     "metadata": {
      "needs_background": "light"
     },
     "output_type": "display_data"
    }
   ],
   "source": [
    "mymodel = numpy.poly1d(numpy.polyfit(train_wprice, train_posrend, 4))\n",
    "\n",
    "myline = numpy.linspace(0, 6, 100)\n",
    "\n",
    "plt.scatter(train_wprice, train_posrend)\n",
    "plt.plot(myline, mymodel(myline))\n",
    "plt.show()"
   ]
  },
  {
   "cell_type": "code",
   "execution_count": 58,
   "metadata": {},
   "outputs": [
    {
     "data": {
      "text/plain": [
       "-0.0644901155717097"
      ]
     },
     "execution_count": 58,
     "metadata": {},
     "output_type": "execute_result"
    }
   ],
   "source": [
    "mymodel(8)"
   ]
  },
  {
   "cell_type": "code",
   "execution_count": 61,
   "metadata": {},
   "outputs": [
    {
     "data": {
      "text/plain": [
       "0.000496920151123903"
      ]
     },
     "execution_count": 61,
     "metadata": {},
     "output_type": "execute_result"
    }
   ],
   "source": [
    "r2 = r2_score(train_posrend, mymodel(train_wprice))\n",
    "r2"
   ]
  },
  {
   "cell_type": "code",
   "execution_count": 67,
   "metadata": {},
   "outputs": [
    {
     "data": {
      "text/plain": [
       "0.018119137034753808"
      ]
     },
     "execution_count": 67,
     "metadata": {},
     "output_type": "execute_result"
    }
   ],
   "source": [
    "x = df2['Weighted price']\n",
    "y = df2['Rendement']\n",
    "\n",
    "slope, intercept, r, p, std_err = stats.linregress(x, y)\n",
    "r"
   ]
  },
  {
   "cell_type": "code",
   "execution_count": null,
   "metadata": {},
   "outputs": [],
   "source": []
  }
 ],
 "metadata": {
  "kernelspec": {
   "display_name": "Python 3",
   "language": "python",
   "name": "python3"
  },
  "language_info": {
   "codemirror_mode": {
    "name": "ipython",
    "version": 3
   },
   "file_extension": ".py",
   "mimetype": "text/x-python",
   "name": "python",
   "nbconvert_exporter": "python",
   "pygments_lexer": "ipython3",
   "version": "3.8.5"
  }
 },
 "nbformat": 4,
 "nbformat_minor": 4
}
